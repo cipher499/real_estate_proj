{
 "cells": [
  {
   "cell_type": "markdown",
   "id": "842d3b27-a39a-46e0-96c7-84313d10061b",
   "metadata": {
    "tags": []
   },
   "source": [
    "## EDA- Multivariate Analysis\n",
    "### @cipher499\n",
    "### 15/12/23"
   ]
  },
  {
   "cell_type": "code",
   "execution_count": 2,
   "id": "c76c1dcf-f62e-4e19-8179-a4314e83dda4",
   "metadata": {},
   "outputs": [],
   "source": [
    "import pandas as pd\n",
    "import numpy as np\n",
    "import matplotlib.pyplot as plt\n",
    "import seaborn as sns"
   ]
  },
  {
   "cell_type": "code",
   "execution_count": null,
   "id": "f7946b9b-c817-406c-b535-4fb5f252709d",
   "metadata": {},
   "outputs": [],
   "source": [
    "pd.set_option('display.max_columns', None)"
   ]
  }
 ],
 "metadata": {
  "kernelspec": {
   "display_name": "Python 3 (ipykernel)",
   "language": "python",
   "name": "python3"
  },
  "language_info": {
   "codemirror_mode": {
    "name": "ipython",
    "version": 3
   },
   "file_extension": ".py",
   "mimetype": "text/x-python",
   "name": "python",
   "nbconvert_exporter": "python",
   "pygments_lexer": "ipython3",
   "version": "3.10.12"
  }
 },
 "nbformat": 4,
 "nbformat_minor": 5
}
