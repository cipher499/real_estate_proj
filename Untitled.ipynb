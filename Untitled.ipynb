{
 "cells": [
  {
   "cell_type": "code",
   "execution_count": null,
   "id": "39675e79-f4a4-4b7f-b869-763cbd287684",
   "metadata": {},
   "outputs": [],
   "source": [
    "from hyperopt import hp, fmin, tpe, Trials, STATUS_OK\n",
    "from sklearn.model_selection import train_test_split\n",
    "\n",
    "space = {\n",
    "    'max_depth': hp.uniform('max_depth', 3, 18, 1),\n",
    "    'max_features': hp.choice('max_features', ['auto', 'sqrt', 'log2', None]),\n",
    "    'min_samples_leaf': hp.uniform('min_samples_leaf', 0, 1, 0.5),\n",
    "    'min_samples_split': hp.uniform('min_samples_split', 0, 0.5, 1),\n",
    "    'n_estimators': hp.choice('n_estimators', [10, 50, 300, 750, 1000, 1200, 1500])\n",
    "}"
   ]
  },
  {
   "cell_type": "code",
   "execution_count": null,
   "id": "b3c94af1-c60c-437f-9c91-a27b2cd95999",
   "metadata": {},
   "outputs": [],
   "source": [
    "columns_to_encode = ['property_type', 'sector', 'balconies', 'age_possession', 'furnishing_type', 'luxury_category', 'floor_category']\n",
    "\n",
    "\n",
    "preprocessor = ColumnTransformer(\n",
    "                transformers=[\n",
    "                    ('num', StandardScaler(), ['bedrooms', 'bathrooms', 'built_up_area', 'servant room', 'store room']),\n",
    "                    ('cat', OrdinalEncoder(handle_unknown='use_encoded_value', unknown_value=-1), columns_to_encode),\n",
    "                    ('cat1', OneHotEncoder(drop='first', handle_unknown='ignore', sparse_output=False), ['age_possession']),\n",
    "                    ('target_enc', ce.TargetEncoder(), ['sector'])\n",
    "                ],\n",
    "                remainder='passthrough'\n",
    "                )"
   ]
  },
  {
   "cell_type": "code",
   "execution_count": null,
   "id": "587d0d36-e185-44b1-a769-110e22e087fd",
   "metadata": {},
   "outputs": [],
   "source": [
    "def obj_fn(params):\n",
    "\tmodel = RandomForestRegressor(\n",
    "\t\t\t\tmax_depth=params['max_depth'],\n",
    "\t\t\t\tmax_features=params['max_features'],\n",
    "\t\t\t\tmin_samples_leaf=params['min_samples_leaf'],\n",
    "\t\t\t\tmin_samples_split=params['min_samples_split'],\n",
    "\t\t\t\tn_estimators=params['n_estimators']\n",
    "\t\t\t\t)\n",
    "\t\t\t\t\n",
    "    pipeline = Pipeline([\n",
    "            ('preprocessor', preprocessor),\n",
    "            ('regressor', model)\n",
    "            ])\n",
    "    \n",
    "    kfold = KFold(n_splits=10, shuffle=True, random_state=42)\n",
    "\taccuracy = cross_val_score(pipeline, X, y_transformed, cv=kfold).mean()\n",
    "\t\n",
    "\treturn {'loss': accuracy, 'status':STATUS_OK}"
   ]
  },
  {
   "cell_type": "code",
   "execution_count": null,
   "id": "e99e000c-babe-427d-bd08-7f2279e3d4bf",
   "metadata": {},
   "outputs": [],
   "source": [
    "trials = Trials()\n",
    "best_params = fmin(fn=obj_fn,\n",
    "                   space=space,\n",
    "                   algo=tpe.suggest,\n",
    "                   max_evals=100,\n",
    "                   trials=trials)"
   ]
  },
  {
   "cell_type": "code",
   "execution_count": null,
   "id": "33fabbad-5e4e-49e4-886f-e6c6094788fe",
   "metadata": {},
   "outputs": [],
   "source": [
    "space = {\n",
    "    'max_depth': hp.quniform('max_depth', 3, 18, 1),\n",
    "    'max_features': hp.choice('max_features', [None, 'sqrt', 'log2']),\n",
    "    'min_samples_leaf': hp.uniform('min_samples_leaf', 0, 1),\n",
    "    'min_samples_split': hp.quniform('min_samples_split', 0, 1, 0.01),\n",
    "    'n_estimators': hp.choice('n_estimators', [10, 50, 300, 750, 1000, 1200, 1500])\n",
    "}\n"
   ]
  }
 ],
 "metadata": {
  "kernelspec": {
   "display_name": "Python 3 (ipykernel)",
   "language": "python",
   "name": "python3"
  },
  "language_info": {
   "codemirror_mode": {
    "name": "ipython",
    "version": 3
   },
   "file_extension": ".py",
   "mimetype": "text/x-python",
   "name": "python",
   "nbconvert_exporter": "python",
   "pygments_lexer": "ipython3",
   "version": "3.10.12"
  }
 },
 "nbformat": 4,
 "nbformat_minor": 5
}
