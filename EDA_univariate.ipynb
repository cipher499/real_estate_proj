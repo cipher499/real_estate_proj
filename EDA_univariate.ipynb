{
 "cells": [
  {
   "cell_type": "code",
   "execution_count": 21,
   "id": "f40478b0-f4e9-4925-965a-e0a2d3f1f2a4",
   "metadata": {},
   "outputs": [],
   "source": [
    "import pandas as pd\n",
    "import numpy as np\n",
    "import matplotlib.pyplot as plt\n",
    "import seaborn as sns"
   ]
  },
  {
   "cell_type": "code",
   "execution_count": 61,
   "id": "013e55e9-b8d9-4286-a51f-e209c2e104b2",
   "metadata": {},
   "outputs": [],
   "source": [
    "%matplotlib inline\n",
    "plt.rcParams['figure.figsize'] = [12, 9]"
   ]
  },
  {
   "cell_type": "code",
   "execution_count": 22,
   "id": "359cbe72-47a4-4e3e-942c-a9abdfcd7d32",
   "metadata": {},
   "outputs": [
    {
     "name": "stdout",
     "output_type": "stream",
     "text": [
      "<class 'pandas.core.frame.DataFrame'>\n",
      "RangeIndex: 3803 entries, 0 to 3802\n",
      "Data columns (total 23 columns):\n",
      " #   Column               Non-Null Count  Dtype  \n",
      "---  ------               --------------  -----  \n",
      " 0   property_type        3803 non-null   object \n",
      " 1   society              3803 non-null   object \n",
      " 2   sector               3803 non-null   object \n",
      " 3   price                3785 non-null   float64\n",
      " 4   price_per_sqft       3785 non-null   float64\n",
      " 5   area                 3785 non-null   float64\n",
      " 6   areaWithType         3803 non-null   object \n",
      " 7   bedrooms             3803 non-null   int64  \n",
      " 8   bathrooms            3803 non-null   int64  \n",
      " 9   balconies            3803 non-null   object \n",
      " 10  floor_num            3784 non-null   float64\n",
      " 11  facing               2698 non-null   object \n",
      " 12  age_possession       3803 non-null   object \n",
      " 13  super_built_up_area  1915 non-null   float64\n",
      " 14  built_up_area        1733 non-null   float64\n",
      " 15  carpet_area          1944 non-null   float64\n",
      " 16  study room           3803 non-null   int64  \n",
      " 17  servant room         3803 non-null   int64  \n",
      " 18  store room           3803 non-null   int64  \n",
      " 19  pooja room           3803 non-null   int64  \n",
      " 20  others               3803 non-null   int64  \n",
      " 21  furnishing_type      3803 non-null   int64  \n",
      " 22  luxury_score         3803 non-null   int64  \n",
      "dtypes: float64(7), int64(9), object(7)\n",
      "memory usage: 683.5+ KB\n"
     ]
    }
   ],
   "source": [
    "df = pd.read_csv('gurgaon_properties_fe.csv')\n",
    "df.info()"
   ]
  },
  {
   "cell_type": "code",
   "execution_count": 23,
   "id": "daa9a4c8-81a6-4adf-a65c-87dd762bb4a5",
   "metadata": {},
   "outputs": [
    {
     "data": {
      "text/plain": [
       "126"
      ]
     },
     "execution_count": 23,
     "metadata": {},
     "output_type": "execute_result"
    }
   ],
   "source": [
    "df.duplicated().sum()"
   ]
  },
  {
   "cell_type": "code",
   "execution_count": 24,
   "id": "27c972ec-edb5-4d85-a3b6-65dc6d814ab8",
   "metadata": {},
   "outputs": [
    {
     "data": {
      "text/html": [
       "<div>\n",
       "<style scoped>\n",
       "    .dataframe tbody tr th:only-of-type {\n",
       "        vertical-align: middle;\n",
       "    }\n",
       "\n",
       "    .dataframe tbody tr th {\n",
       "        vertical-align: top;\n",
       "    }\n",
       "\n",
       "    .dataframe thead th {\n",
       "        text-align: right;\n",
       "    }\n",
       "</style>\n",
       "<table border=\"1\" class=\"dataframe\">\n",
       "  <thead>\n",
       "    <tr style=\"text-align: right;\">\n",
       "      <th></th>\n",
       "      <th>property_type</th>\n",
       "      <th>society</th>\n",
       "      <th>sector</th>\n",
       "      <th>price</th>\n",
       "      <th>price_per_sqft</th>\n",
       "      <th>area</th>\n",
       "      <th>areaWithType</th>\n",
       "      <th>bedrooms</th>\n",
       "      <th>bathrooms</th>\n",
       "      <th>balconies</th>\n",
       "      <th>...</th>\n",
       "      <th>super_built_up_area</th>\n",
       "      <th>built_up_area</th>\n",
       "      <th>carpet_area</th>\n",
       "      <th>study room</th>\n",
       "      <th>servant room</th>\n",
       "      <th>store room</th>\n",
       "      <th>pooja room</th>\n",
       "      <th>others</th>\n",
       "      <th>furnishing_type</th>\n",
       "      <th>luxury_score</th>\n",
       "    </tr>\n",
       "  </thead>\n",
       "  <tbody>\n",
       "    <tr>\n",
       "      <th>0</th>\n",
       "      <td>flat</td>\n",
       "      <td>m3m heights</td>\n",
       "      <td>sector 65</td>\n",
       "      <td>2.50</td>\n",
       "      <td>13600.0</td>\n",
       "      <td>1838.0</td>\n",
       "      <td>Super Built up area 1828(169.83 sq.m.)</td>\n",
       "      <td>3</td>\n",
       "      <td>3</td>\n",
       "      <td>3</td>\n",
       "      <td>...</td>\n",
       "      <td>1828.0</td>\n",
       "      <td>NaN</td>\n",
       "      <td>NaN</td>\n",
       "      <td>0</td>\n",
       "      <td>0</td>\n",
       "      <td>0</td>\n",
       "      <td>0</td>\n",
       "      <td>0</td>\n",
       "      <td>0</td>\n",
       "      <td>48</td>\n",
       "    </tr>\n",
       "    <tr>\n",
       "      <th>1</th>\n",
       "      <td>flat</td>\n",
       "      <td>bestech park view city</td>\n",
       "      <td>sector 48</td>\n",
       "      <td>2.65</td>\n",
       "      <td>10323.0</td>\n",
       "      <td>2567.0</td>\n",
       "      <td>Super Built up area 2567(238.48 sq.m.)Carpet a...</td>\n",
       "      <td>4</td>\n",
       "      <td>4</td>\n",
       "      <td>3+</td>\n",
       "      <td>...</td>\n",
       "      <td>2567.0</td>\n",
       "      <td>NaN</td>\n",
       "      <td>1750.0</td>\n",
       "      <td>1</td>\n",
       "      <td>1</td>\n",
       "      <td>0</td>\n",
       "      <td>0</td>\n",
       "      <td>0</td>\n",
       "      <td>1</td>\n",
       "      <td>174</td>\n",
       "    </tr>\n",
       "    <tr>\n",
       "      <th>2</th>\n",
       "      <td>flat</td>\n",
       "      <td>ss the leaf</td>\n",
       "      <td>sector 85</td>\n",
       "      <td>1.20</td>\n",
       "      <td>7317.0</td>\n",
       "      <td>1640.0</td>\n",
       "      <td>Super Built up area 1640(152.36 sq.m.)Built Up...</td>\n",
       "      <td>2</td>\n",
       "      <td>2</td>\n",
       "      <td>3</td>\n",
       "      <td>...</td>\n",
       "      <td>1640.0</td>\n",
       "      <td>1300.0</td>\n",
       "      <td>1000.0</td>\n",
       "      <td>0</td>\n",
       "      <td>0</td>\n",
       "      <td>0</td>\n",
       "      <td>0</td>\n",
       "      <td>0</td>\n",
       "      <td>1</td>\n",
       "      <td>174</td>\n",
       "    </tr>\n",
       "    <tr>\n",
       "      <th>3</th>\n",
       "      <td>flat</td>\n",
       "      <td>signature global solera</td>\n",
       "      <td>sector 107</td>\n",
       "      <td>0.52</td>\n",
       "      <td>8062.0</td>\n",
       "      <td>645.0</td>\n",
       "      <td>Carpet area: 645 (59.92 sq.m.)</td>\n",
       "      <td>3</td>\n",
       "      <td>2</td>\n",
       "      <td>2</td>\n",
       "      <td>...</td>\n",
       "      <td>NaN</td>\n",
       "      <td>NaN</td>\n",
       "      <td>645.0</td>\n",
       "      <td>0</td>\n",
       "      <td>0</td>\n",
       "      <td>0</td>\n",
       "      <td>0</td>\n",
       "      <td>1</td>\n",
       "      <td>0</td>\n",
       "      <td>15</td>\n",
       "    </tr>\n",
       "    <tr>\n",
       "      <th>4</th>\n",
       "      <td>flat</td>\n",
       "      <td>signature global park</td>\n",
       "      <td>sohna road</td>\n",
       "      <td>0.54</td>\n",
       "      <td>7248.0</td>\n",
       "      <td>745.0</td>\n",
       "      <td>Carpet area: 745 (69.21 sq.m.)</td>\n",
       "      <td>2</td>\n",
       "      <td>1</td>\n",
       "      <td>3</td>\n",
       "      <td>...</td>\n",
       "      <td>NaN</td>\n",
       "      <td>NaN</td>\n",
       "      <td>745.0</td>\n",
       "      <td>0</td>\n",
       "      <td>0</td>\n",
       "      <td>0</td>\n",
       "      <td>0</td>\n",
       "      <td>0</td>\n",
       "      <td>0</td>\n",
       "      <td>65</td>\n",
       "    </tr>\n",
       "  </tbody>\n",
       "</table>\n",
       "<p>5 rows × 23 columns</p>\n",
       "</div>"
      ],
      "text/plain": [
       "  property_type                  society      sector  price  price_per_sqft  \\\n",
       "0          flat              m3m heights   sector 65   2.50         13600.0   \n",
       "1          flat   bestech park view city   sector 48   2.65         10323.0   \n",
       "2          flat              ss the leaf   sector 85   1.20          7317.0   \n",
       "3          flat  signature global solera  sector 107   0.52          8062.0   \n",
       "4          flat    signature global park  sohna road   0.54          7248.0   \n",
       "\n",
       "     area                                       areaWithType  bedrooms  \\\n",
       "0  1838.0             Super Built up area 1828(169.83 sq.m.)         3   \n",
       "1  2567.0  Super Built up area 2567(238.48 sq.m.)Carpet a...         4   \n",
       "2  1640.0  Super Built up area 1640(152.36 sq.m.)Built Up...         2   \n",
       "3   645.0                     Carpet area: 645 (59.92 sq.m.)         3   \n",
       "4   745.0                     Carpet area: 745 (69.21 sq.m.)         2   \n",
       "\n",
       "   bathrooms balconies  ...  super_built_up_area built_up_area carpet_area  \\\n",
       "0          3         3  ...               1828.0           NaN         NaN   \n",
       "1          4        3+  ...               2567.0           NaN      1750.0   \n",
       "2          2         3  ...               1640.0        1300.0      1000.0   \n",
       "3          2         2  ...                  NaN           NaN       645.0   \n",
       "4          1         3  ...                  NaN           NaN       745.0   \n",
       "\n",
       "   study room  servant room  store room  pooja room  others  furnishing_type  \\\n",
       "0           0             0           0           0       0                0   \n",
       "1           1             1           0           0       0                1   \n",
       "2           0             0           0           0       0                1   \n",
       "3           0             0           0           0       1                0   \n",
       "4           0             0           0           0       0                0   \n",
       "\n",
       "   luxury_score  \n",
       "0            48  \n",
       "1           174  \n",
       "2           174  \n",
       "3            15  \n",
       "4            65  \n",
       "\n",
       "[5 rows x 23 columns]"
      ]
     },
     "execution_count": 24,
     "metadata": {},
     "output_type": "execute_result"
    }
   ],
   "source": [
    "df.drop_duplicates(inplace=True)\n",
    "df.head()"
   ]
  },
  {
   "cell_type": "code",
   "execution_count": 25,
   "id": "e421d6db-a9b6-4a66-bd8e-7ca46c441418",
   "metadata": {},
   "outputs": [
    {
     "data": {
      "text/plain": [
       "(3677, 23)"
      ]
     },
     "execution_count": 25,
     "metadata": {},
     "output_type": "execute_result"
    }
   ],
   "source": [
    "df.shape"
   ]
  },
  {
   "cell_type": "markdown",
   "id": "fe7f3868-c4c2-48fb-8c0a-4794ce9177d8",
   "metadata": {},
   "source": [
    "### 1. Property type"
   ]
  },
  {
   "cell_type": "code",
   "execution_count": 65,
   "id": "74e3d7cb-b73c-4fae-9c94-6207e06ae25e",
   "metadata": {},
   "outputs": [
    {
     "data": {
      "text/plain": [
       "<AxesSubplot:>"
      ]
     },
     "execution_count": 65,
     "metadata": {},
     "output_type": "execute_result"
    },
    {
     "data": {
      "image/png": "[encoded data removed]",
      "text/plain": [
       "<Figure size 864x648 with 1 Axes>"
      ]
     },
     "metadata": {
      "needs_background": "light"
     },
     "output_type": "display_data"
    }
   ],
   "source": [
    "df['property_type'].value_counts().plot(kind='bar')"
   ]
  },
  {
   "cell_type": "markdown",
   "id": "8e1bfd27-0d9a-436b-a66d-b5a97983e739",
   "metadata": {},
   "source": [
    "- Flats are in majority (~75%)\n",
    "- No missing values"
   ]
  },
  {
   "cell_type": "code",
   "execution_count": 27,
   "id": "76115fbd-862a-4746-98e0-e7b113185d5f",
   "metadata": {},
   "outputs": [
    {
     "data": {
      "text/plain": [
       "(675,)"
      ]
     },
     "execution_count": 27,
     "metadata": {},
     "output_type": "execute_result"
    }
   ],
   "source": [
    "df['society'].value_counts().shape"
   ]
  },
  {
   "cell_type": "code",
   "execution_count": 29,
   "id": "ef5c81aa-78ed-4f36-be60-57236cf0c27e",
   "metadata": {},
   "outputs": [
    {
     "data": {
      "text/plain": [
       "independent                             487\n",
       "tulip violet                             75\n",
       "ss the leaf                              73\n",
       "shapoorji pallonji joyville gurugram     42\n",
       "dlf new town heights                     42\n",
       "signature global park                    35\n",
       "shree vardhman victoria                  34\n",
       "smart world orchard                      32\n",
       "emaar mgf emerald floors premier         32\n",
       "paras dews                               31\n",
       "dlf the ultima                           31\n",
       "m3m woodshire                            30\n",
       "dlf regal gardens                        30\n",
       "shree vardhman flora                     29\n",
       "smart world gems                         28\n",
       "la vida by tata housing                  28\n",
       "godrej nature plus                       27\n",
       "signature global solera                  27\n",
       "bptp terra                               25\n",
       "vatika gurgaon                           24\n",
       "Name: society, dtype: int64"
      ]
     },
     "execution_count": 29,
     "metadata": {},
     "output_type": "execute_result"
    }
   ],
   "source": [
    "df['society'].value_counts()[:20]"
   ]
  },
  {
   "cell_type": "code",
   "execution_count": 38,
   "id": "a61b6aca-6ef5-4e51-9230-9e876ac0ee8c",
   "metadata": {},
   "outputs": [
    {
     "data": {
      "text/plain": [
       "tulip violet                            0.023511\n",
       "ss the leaf                             0.046395\n",
       "shapoorji pallonji joyville gurugram    0.059561\n",
       "dlf new town heights                    0.072727\n",
       "signature global park                   0.083699\n",
       "                                          ...   \n",
       "dlf the primus                          0.486520\n",
       "indiabulls enigma                       0.490596\n",
       "ramsons kshitij                         0.494671\n",
       "the close north                         0.498746\n",
       "ireo the corridors                      0.502508\n",
       "Name: society, Length: 74, dtype: float64"
      ]
     },
     "execution_count": 38,
     "metadata": {},
     "output_type": "execute_result"
    }
   ],
   "source": [
    "df[df['society'] != 'independent']['society'].value_counts(normalize=True).cumsum().head(74)"
   ]
  },
  {
   "cell_type": "code",
   "execution_count": 44,
   "id": "ba957777-6b25-4a31-a95c-477d333a2def",
   "metadata": {},
   "outputs": [
    {
     "data": {
      "text/plain": [
       "{'Very High (>100)': 1,\n",
       " 'High (50-100)': 2,\n",
       " 'Average (10-49)': 92,\n",
       " 'Low (2-9)': 273,\n",
       " 'Very Low (1)': 307}"
      ]
     },
     "execution_count": 44,
     "metadata": {},
     "output_type": "execute_result"
    }
   ],
   "source": [
    "society_counts = df['society'].value_counts()\n",
    "\n",
    "frequency_bins = {\n",
    "    \"Very High (>100)\": (society_counts > 100).sum(),\n",
    "    \"High (50-100)\": ((society_counts >= 50) & (society_counts <= 100)).sum(),\n",
    "    \"Average (10-49)\": ((society_counts >= 10) & (society_counts < 50)).sum(),\n",
    "    \"Low (2-9)\": ((society_counts >= 2) & (society_counts < 10)).sum(),\n",
    "    \"Very Low (1)\": (society_counts == 1).sum()\n",
    "}\n",
    "\n",
    "frequency_bins"
   ]
  },
  {
   "cell_type": "code",
   "execution_count": 66,
   "id": "c3298c74-422f-4d12-9e8e-cdbdf374282a",
   "metadata": {},
   "outputs": [
    {
     "data": {
      "text/plain": [
       "<AxesSubplot:>"
      ]
     },
     "execution_count": 66,
     "metadata": {},
     "output_type": "execute_result"
    },
    {
     "data": {
      "image/png": "[encoded data removed]",
      "text/plain": [
       "<Figure size 864x648 with 1 Axes>"
      ]
     },
     "metadata": {
      "needs_background": "light"
     },
     "output_type": "display_data"
    }
   ],
   "source": [
    "df[df['society'] != 'independent']['society'].value_counts().head(10).plot(kind='bar')"
   ]
  },
  {
   "cell_type": "code",
   "execution_count": 37,
   "id": "4a4b5636-7643-4ab0-9f91-5073125b5b3b",
   "metadata": {},
   "outputs": [
    {
     "data": {
      "text/plain": [
       "0"
      ]
     },
     "execution_count": 37,
     "metadata": {},
     "output_type": "execute_result"
    }
   ],
   "source": [
    "df['society'].isnull().sum()"
   ]
  },
  {
   "cell_type": "markdown",
   "id": "fe997143-9477-4a1e-af14-3a6fbf0d68c0",
   "metadata": {},
   "source": [
    "- Around 13% of the properties are independent\n",
    "- There are a total of 674 societies in the dataset\n",
    "- The top 74 societies have 50% of all properties and the rest 600 have the remaining 50% properties.\n",
    "    - Very High (>100): 1 society has more than 100 properties\n",
    "    - High (50-100): 2 societies have between 50 t0 100 properties\n",
    "    - Average (10-49): 92 societies have between 10 to 49 properties\n",
    "    - Low (2-9): 273 societies have between 2 to 9 properties\n",
    "    - Very Low (1): This is largest group; 307 societies have 1 property each\n"
   ]
  },
  {
   "cell_type": "markdown",
   "id": "b4437c6e-9577-49bc-ac96-c1af79efa649",
   "metadata": {},
   "source": [
    "### 3. Sector"
   ]
  },
  {
   "cell_type": "code",
   "execution_count": 41,
   "id": "e2b54759-ee85-4858-8900-76ab2d70f592",
   "metadata": {},
   "outputs": [
    {
     "data": {
      "text/plain": [
       "sohna road    166\n",
       "sector 85     108\n",
       "sector 102    107\n",
       "sector 92     100\n",
       "sector 69      93\n",
       "             ... \n",
       "sector 73       3\n",
       "sector 17b      3\n",
       "sector 88b      3\n",
       "sector 27       3\n",
       "sector 37       1\n",
       "Name: sector, Length: 112, dtype: int64"
      ]
     },
     "execution_count": 41,
     "metadata": {},
     "output_type": "execute_result"
    }
   ],
   "source": [
    "df['sector'].value_counts()"
   ]
  },
  {
   "cell_type": "code",
   "execution_count": 42,
   "id": "1dd48202-259d-4439-92ff-e5fbb75a5832",
   "metadata": {},
   "outputs": [
    {
     "data": {
      "text/plain": [
       "0"
      ]
     },
     "execution_count": 42,
     "metadata": {},
     "output_type": "execute_result"
    }
   ],
   "source": [
    "df['sector'].isnull().sum()"
   ]
  },
  {
   "cell_type": "code",
   "execution_count": 47,
   "id": "fc7a2fc7-b547-4d2a-83fe-ae200f3a3f03",
   "metadata": {},
   "outputs": [
    {
     "data": {
      "text/plain": [
       "{'Very High (>100)': 3,\n",
       " 'High (50-100)': 25,\n",
       " 'Average (10-49)': 62,\n",
       " 'Low (2-9)': 21,\n",
       " 'Very Low (1)': 1}"
      ]
     },
     "execution_count": 47,
     "metadata": {},
     "output_type": "execute_result"
    }
   ],
   "source": [
    "sector_counts = df['sector'].value_counts()\n",
    "\n",
    "frequency_bins = {\n",
    "    \"Very High (>100)\": (sector_counts > 100).sum(),\n",
    "    \"High (50-100)\": ((sector_counts >= 50) & (sector_counts <= 100)).sum(),\n",
    "    \"Average (10-49)\": ((sector_counts >= 10) & (sector_counts < 50)).sum(),\n",
    "    \"Low (2-9)\": ((sector_counts >= 2) & (sector_counts < 10)).sum(),\n",
    "    \"Very Low (1)\": (sector_counts == 1).sum()\n",
    "}\n",
    "\n",
    "frequency_bins"
   ]
  },
  {
   "cell_type": "code",
   "execution_count": 67,
   "id": "1ede7053-b851-4115-a49f-7339348cc5c1",
   "metadata": {},
   "outputs": [
    {
     "data": {
      "text/plain": [
       "<AxesSubplot:>"
      ]
     },
     "execution_count": 67,
     "metadata": {},
     "output_type": "execute_result"
    },
    {
     "data": {
      "image/png": "[encoded data removed]",
      "text/plain": [
       "<Figure size 864x648 with 1 Axes>"
      ]
     },
     "metadata": {
      "needs_background": "light"
     },
     "output_type": "display_data"
    }
   ],
   "source": [
    "df['sector'].value_counts().head(10).plot(kind='bar')"
   ]
  },
  {
   "cell_type": "markdown",
   "id": "af3a2750-340f-413b-bf90-a0320b82c6ab",
   "metadata": {},
   "source": [
    "- There are a total of 112 sectors in the dataset\n",
    "- Frequency distribution:\n",
    "    - Very High (>100): 3 sectors have more than 100 properties\n",
    "    - High (50-100): 25 sectors have between 50 to 100 properties\n",
    "    - Average (10-49): 62 sectors have between 10 to 49 properties\n",
    "    - Low (2-9): 21 sectors have between 2 to 9 properties\n",
    "    - Very Low (1): 1 sector has 1 property"
   ]
  },
  {
   "cell_type": "markdown",
   "id": "aabfebcc-e491-4eed-a45f-4791c1e91140",
   "metadata": {},
   "source": [
    "### 4. Price"
   ]
  },
  {
   "cell_type": "code",
   "execution_count": 56,
   "id": "a32c1790-9893-440c-9f39-527031636592",
   "metadata": {},
   "outputs": [
    {
     "data": {
      "text/plain": [
       "17"
      ]
     },
     "execution_count": 56,
     "metadata": {},
     "output_type": "execute_result"
    }
   ],
   "source": [
    "df['price'].isnull().sum()"
   ]
  },
  {
   "cell_type": "code",
   "execution_count": 57,
   "id": "2dd2c20a-ebe1-41d2-9fde-c769da42c160",
   "metadata": {},
   "outputs": [
    {
     "data": {
      "text/plain": [
       "count    3660.000000\n",
       "mean        2.533664\n",
       "std         2.980623\n",
       "min         0.070000\n",
       "25%         0.950000\n",
       "50%         1.520000\n",
       "75%         2.750000\n",
       "max        31.500000\n",
       "Name: price, dtype: float64"
      ]
     },
     "execution_count": 57,
     "metadata": {},
     "output_type": "execute_result"
    }
   ],
   "source": [
    "df['price'].describe()"
   ]
  },
  {
   "cell_type": "code",
   "execution_count": 62,
   "id": "01393b62-b62b-446e-b486-f61b0ca3f89b",
   "metadata": {},
   "outputs": [
    {
     "data": {
      "text/plain": [
       "<AxesSubplot:xlabel='price', ylabel='Count'>"
      ]
     },
     "execution_count": 62,
     "metadata": {},
     "output_type": "execute_result"
    },
    {
     "data": {
      "image/png": "[encoded data removed]",
      "text/plain": [
       "<Figure size 864x648 with 1 Axes>"
      ]
     },
     "metadata": {
      "needs_background": "light"
     },
     "output_type": "display_data"
    }
   ],
   "source": [
    "sns.histplot(df['price'], kde=True, bins=50)"
   ]
  },
  {
   "cell_type": "code",
   "execution_count": 73,
   "id": "d7293525-2eb3-40d4-b0e3-01d3b917cdc2",
   "metadata": {},
   "outputs": [
    {
     "data": {
      "image/png": "[encoded data removed]",
      "text/plain": [
       "<Figure size 864x648 with 1 Axes>"
      ]
     },
     "metadata": {
      "needs_background": "light"
     },
     "output_type": "display_data"
    }
   ],
   "source": [
    "sns.boxplot(x=df['price'], color='lightblue')\n",
    "plt.grid()"
   ]
  },
  {
   "cell_type": "markdown",
   "id": "8e6f488f-540a-4fb0-a0ee-354ce777e3bc",
   "metadata": {},
   "source": [
    "- Descriptive Statistics:\n",
    "    - The mean price of properties is ~2.5 Cr.\n",
    "    - The variability in prices is quite high at standard deviation ~ 3 Cr\n",
    "    - The cheapest property is priced at 7 lacs\n",
    "    - 25 % of properties are priced under 0.95 Cr\n",
    "    - 75 % of properties are priced under 2.75 Cr\n",
    "    - Interquartile Range (IQR): 0.95 Cr to 2.75 Cr (1.80 Cr)\n",
    "    - Median price is 1.52 Cr which is a better estimate of the central value as the mean value is sensitive to outliers.\n",
    "- Visualizations:\n",
    "    - The histogram shows that most properties are priced below 5 crores, while a few properties priced above 10 crores.\n",
    "    - The boxplot showcases the spread of the data and potential outliers. The properties priced above 10 crores might be considered to be outliers as they lie beyond the upper whisker of the plot."
   ]
  },
  {
   "cell_type": "code",
   "execution_count": 75,
   "id": "214314eb-1204-43eb-9a93-b436fa3a5a81",
   "metadata": {},
   "outputs": [
    {
     "name": "stdout",
     "output_type": "stream",
     "text": [
      "3.2791704733134623 14.933372629214254\n"
     ]
    }
   ],
   "source": [
    "# Skewness and Kurtosis\n",
    "skewness = df['price'].skew()\n",
    "kurtosis = df['price'].kurt()\n",
    "\n",
    "print(skewness, kurtosis)"
   ]
  },
  {
   "cell_type": "markdown",
   "id": "1fcc7c50-df5b-48e6-bf9e-a5276c525dc9",
   "metadata": {},
   "source": [
    "**Skewness**: The skewness value is around 3.28, indicating a positive skew (right tail) in the price data. <br>\n",
    "**Kurtosis**: The kurtosis value is around 15, indicating a heavier tail and the presence of more outliers than a normal distribution."
   ]
  },
  {
   "cell_type": "code",
   "execution_count": 77,
   "id": "93a0a4eb-41be-46b0-b49f-b97998bf6237",
   "metadata": {},
   "outputs": [
    {
     "data": {
      "text/plain": [
       "0.01     0.250\n",
       "0.05     0.370\n",
       "0.95     8.500\n",
       "0.99    15.264\n",
       "Name: price, dtype: float64"
      ]
     },
     "execution_count": 77,
     "metadata": {},
     "output_type": "execute_result"
    }
   ],
   "source": [
    "# Quantile analysis:\n",
    "quantiles = df['price'].quantile([0.01, 0.05, 0.95, 0.99])\n",
    "quantiles"
   ]
  },
  {
   "cell_type": "markdown",
   "id": "44df1259-080e-4603-9bcc-2172c6da2ee7",
   "metadata": {},
   "source": [
    "- Quantile Analysis:\n",
    "    - 1% Quantile: Only 1% of properties are priced below 0.25 crores.\n",
    "    - 5% Quantile: 5% of properties are priced below 0.37 crores.\n",
    "    - 95% Quantile: 95% of properties are priced below 8.5 crores.\n",
    "    - 99% Quantile: 99% of properties are priced below 15.26 crores, indicating that very few properties are priced above this value."
   ]
  },
  {
   "cell_type": "markdown",
   "id": "84b77995-7d4b-408f-8f46-3a526d2d9699",
   "metadata": {},
   "source": [
    "#### Outlier detection"
   ]
  },
  {
   "cell_type": "code",
   "execution_count": 86,
   "id": "74dc4f9f-a19f-4651-94b5-646eb7165644",
   "metadata": {},
   "outputs": [
    {
     "data": {
      "text/plain": [
       "1.8"
      ]
     },
     "execution_count": 86,
     "metadata": {},
     "output_type": "execute_result"
    }
   ],
   "source": [
    "Q1 = df['price'].describe()['25%']\n",
    "Q2 = df['price'].describe()['75%']\n",
    "IQR = Q2 - Q1\n",
    "\n",
    "IQR"
   ]
  },
  {
   "cell_type": "markdown",
   "id": "5b520328-34be-47d6-b3d1-ad45d3de23b6",
   "metadata": {},
   "source": [
    "Q2"
   ]
  },
  {
   "cell_type": "code",
   "execution_count": 87,
   "id": "41953389-eeef-4ac8-b0ce-990cf2162169",
   "metadata": {},
   "outputs": [
    {
     "name": "stdout",
     "output_type": "stream",
     "text": [
      "-1.7500000000000002 5.45\n"
     ]
    }
   ],
   "source": [
    "lower_bound = Q1 - 1.5*IQR\n",
    "upper_bound = Q2 + (1.5*IQR)\n",
    "print(lower_bound, upper_bound)"
   ]
  },
  {
   "cell_type": "code",
   "execution_count": 88,
   "id": "984467be-6715-4c71-b835-78af72d74fb8",
   "metadata": {},
   "outputs": [
    {
     "data": {
      "text/plain": [
       "(425, 23)"
      ]
     },
     "execution_count": 88,
     "metadata": {},
     "output_type": "execute_result"
    }
   ],
   "source": [
    "outliers = df[(df['price'] > upper_bound) | (df['price'] < lower_bound)]\n",
    "outliers.shape"
   ]
  },
  {
   "cell_type": "code",
   "execution_count": 90,
   "id": "cef4b7fc-5895-488f-a7cd-343c35af6163",
   "metadata": {},
   "outputs": [
    {
     "data": {
      "text/plain": [
       "count    425.000000\n",
       "mean       9.235624\n",
       "std        4.065259\n",
       "min        5.460000\n",
       "25%        6.460000\n",
       "50%        8.000000\n",
       "75%       10.750000\n",
       "max       31.500000\n",
       "Name: price, dtype: float64"
      ]
     },
     "execution_count": 90,
     "metadata": {},
     "output_type": "execute_result"
    }
   ],
   "source": [
    "outliers['price'].describe()"
   ]
  },
  {
   "cell_type": "markdown",
   "id": "0d29f860-adf6-4d52-9869-5f4caa39c8b9",
   "metadata": {},
   "source": [
    "- Outliers Analysis (using IQR method):\n",
    "    - Based on the IQR method, there are 425 properties considered as outliers.\n",
    "    - These outliers have an average price of approximately 9.24 crores.\n",
    "    - The range for these outliers is from 5.46 crores to 31.5 crores."
   ]
  },
  {
   "cell_type": "code",
   "execution_count": 97,
   "id": "91f8187f-07f9-49c0-b9f1-614078ebcb0b",
   "metadata": {},
   "outputs": [
    {
     "data": {
      "image/png": "[encoded data removed]",
      "text/plain": [
       "<Figure size 864x648 with 1 Axes>"
      ]
     },
     "metadata": {
      "needs_background": "light"
     },
     "output_type": "display_data"
    }
   ],
   "source": [
    "# price binning\n",
    "bins = [0, 1, 2, 3, 5, 10, 20, 50]\n",
    "bin_labels = [\"0-1\", \"1-2\", \"2-3\", \"3-5\", \"5-10\", \"10-20\", \"20-50\"]\n",
    "pd.cut(df['price'], bins=bins, labels=bin_labels, right=False).value_counts().sort_index().plot(kind='bar')\n",
    "plt.title('Distribution of Prices in Bins')\n",
    "plt.xlabel('Price Bins (Cr)')\n",
    "plt.ylabel('Count')\n",
    "plt.show()"
   ]
  },
  {
   "cell_type": "markdown",
   "id": "16f3e207-bbea-4cd5-a58a-cead156b02fb",
   "metadata": {},
   "source": [
    "- The majority of properties are priced in the \"1-2 crores\" and \"2-3 crores\" ranges.\n",
    "- There's a significant drop in the number of properties priced above 10 crores."
   ]
  },
  {
   "cell_type": "code",
   "execution_count": 104,
   "id": "bd762c73-753f-45d6-b994-2aa5b248bad5",
   "metadata": {},
   "outputs": [
    {
     "data": {
      "image/png": "[encoded data removed]",
      "text/plain": [
       "<Figure size 864x576 with 1 Axes>"
      ]
     },
     "metadata": {
      "needs_background": "light"
     },
     "output_type": "display_data"
    }
   ],
   "source": [
    "# ecdf plot\n",
    "plt.figure(figsize=(12,8))\n",
    "ecdf = df['price'].value_counts().sort_index().cumsum()/len(df['price'])\n",
    "plt.plot(ecdf.index, ecdf, marker='.', linestyle='none')\n",
    "plt.grid()\n",
    "plt.xlabel('Price (Cr)')\n",
    "plt.ylabel('%')\n",
    "plt.show()"
   ]
  },
  {
   "cell_type": "code",
   "execution_count": 105,
   "id": "d29bd4ca-5856-4a1a-ad40-069b46b28d12",
   "metadata": {},
   "outputs": [
    {
     "data": {
      "image/png": "[encoded data removed]",
      "text/plain": [
       "<Figure size 1080x432 with 2 Axes>"
      ]
     },
     "metadata": {
      "needs_background": "light"
     },
     "output_type": "display_data"
    }
   ],
   "source": [
    "plt.figure(figsize=(15, 6))\n",
    "\n",
    "# Distribution plot without log transformation\n",
    "plt.subplot(1, 2, 1)\n",
    "sns.histplot(df['price'], kde=True, bins=50, color='skyblue')\n",
    "plt.title('Distribution of Prices (Original)')\n",
    "plt.xlabel('Price (Cr)')\n",
    "plt.ylabel('Frequency')\n",
    "\n",
    "# Distribution plot with log transformation\n",
    "plt.subplot(1, 2, 2)\n",
    "sns.histplot(np.log1p(df['price']), kde=True, bins=50, color='lightgreen')\n",
    "plt.title('Distribution of Prices (Log Transformed)')\n",
    "plt.xlabel('Log(Price)')\n",
    "plt.ylabel('Frequency')\n",
    "\n",
    "plt.tight_layout()\n",
    "plt.show()"
   ]
  },
  {
   "cell_type": "markdown",
   "id": "5dc9d396-327a-4a4d-8e58-25ccc0ce59ab",
   "metadata": {},
   "source": [
    "- np.log1p(x): This function computes the natural logarithm of 1+x. It's designed to provide more accurate results for values of x that are very close to zero.\n",
    "\n",
    "- Using np.log1p helps in transforming the price column while ensuring that any value (including zero, if present) is handled appropriately. When we need to reverse the transformation, we can use np.expm1 which computes e^x-1"
   ]
  },
  {
   "cell_type": "code",
   "execution_count": 106,
   "id": "abb25022-b952-4a84-bd28-571d591e68c9",
   "metadata": {},
   "outputs": [
    {
     "name": "stdout",
     "output_type": "stream",
     "text": [
      "1.0740709565255313 0.9646692415449274\n"
     ]
    }
   ],
   "source": [
    "skewness_log = np.log1p(df['price']).skew()\n",
    "kurtosis_log = np.log1p(df['price']).kurt()\n",
    "print(skewness_log, kurtosis_log)"
   ]
  },
  {
   "cell_type": "markdown",
   "id": "4016e126-13c8-4dba-bfa5-66989f2a5ed8",
   "metadata": {},
   "source": [
    "- Significantly lower than the original price column"
   ]
  },
  {
   "cell_type": "code",
   "execution_count": 112,
   "id": "ede7dba9-7f6d-4f33-90b9-9c6727a8c8f0",
   "metadata": {},
   "outputs": [
    {
     "data": {
      "image/png": "[encoded data removed]",
      "text/plain": [
       "<Figure size 1080x432 with 2 Axes>"
      ]
     },
     "metadata": {
      "needs_background": "light"
     },
     "output_type": "display_data"
    }
   ],
   "source": [
    "plt.figure(figsize=(15, 6))\n",
    "\n",
    "# boxplot without log transformation\n",
    "plt.subplot(1, 2, 1)\n",
    "sns.boxplot(x=df['price'], color='skyblue')\n",
    "plt.title('Distribution of Prices (Original)')\n",
    "plt.xlabel('Price (Cr)')\n",
    "plt.ylabel('Frequency')\n",
    "\n",
    "# boxplot with log transformation\n",
    "plt.subplot(1, 2, 2)\n",
    "sns.boxplot(x=np.log1p(df['price']), color='lightgreen')\n",
    "plt.title('Distribution of Prices (Log Transformed)')\n",
    "plt.xlabel('Log(Price)')\n",
    "plt.ylabel('Frequency')\n",
    "\n",
    "plt.tight_layout()\n",
    "plt.show()"
   ]
  },
  {
   "cell_type": "code",
   "execution_count": null,
   "id": "ac82c49f-91b7-4dce-af40-60afb0b6751d",
   "metadata": {},
   "outputs": [],
   "source": []
  }
 ],
 "metadata": {
  "kernelspec": {
   "display_name": "Python 3 (ipykernel)",
   "language": "python",
   "name": "python3"
  },
  "language_info": {
   "codemirror_mode": {
    "name": "ipython",
    "version": 3
   },
   "file_extension": ".py",
   "mimetype": "text/x-python",
   "name": "python",
   "nbconvert_exporter": "python",
   "pygments_lexer": "ipython3",
   "version": "3.10.12"
  }
 },
 "nbformat": 4,
 "nbformat_minor": 5
}
