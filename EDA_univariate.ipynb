{
 "cells": [
  {
   "cell_type": "code",
   "execution_count": 21,
   "id": "f40478b0-f4e9-4925-965a-e0a2d3f1f2a4",
   "metadata": {},
   "outputs": [],
   "source": [
    "import pandas as pd\n",
    "import numpy as np\n",
    "import matplotlib.pyplot as plt\n",
    "import seaborn as sns"
   ]
  },
  {
   "cell_type": "code",
   "execution_count": 22,
   "id": "359cbe72-47a4-4e3e-942c-a9abdfcd7d32",
   "metadata": {},
   "outputs": [
    {
     "name": "stdout",
     "output_type": "stream",
     "text": [
      "<class 'pandas.core.frame.DataFrame'>\n",
      "RangeIndex: 3803 entries, 0 to 3802\n",
      "Data columns (total 23 columns):\n",
      " #   Column               Non-Null Count  Dtype  \n",
      "---  ------               --------------  -----  \n",
      " 0   property_type        3803 non-null   object \n",
      " 1   society              3803 non-null   object \n",
      " 2   sector               3803 non-null   object \n",
      " 3   price                3785 non-null   float64\n",
      " 4   price_per_sqft       3785 non-null   float64\n",
      " 5   area                 3785 non-null   float64\n",
      " 6   areaWithType         3803 non-null   object \n",
      " 7   bedrooms             3803 non-null   int64  \n",
      " 8   bathrooms            3803 non-null   int64  \n",
      " 9   balconies            3803 non-null   object \n",
      " 10  floor_num            3784 non-null   float64\n",
      " 11  facing               2698 non-null   object \n",
      " 12  age_possession       3803 non-null   object \n",
      " 13  super_built_up_area  1915 non-null   float64\n",
      " 14  built_up_area        1733 non-null   float64\n",
      " 15  carpet_area          1944 non-null   float64\n",
      " 16  study room           3803 non-null   int64  \n",
      " 17  servant room         3803 non-null   int64  \n",
      " 18  store room           3803 non-null   int64  \n",
      " 19  pooja room           3803 non-null   int64  \n",
      " 20  others               3803 non-null   int64  \n",
      " 21  furnishing_type      3803 non-null   int64  \n",
      " 22  luxury_score         3803 non-null   int64  \n",
      "dtypes: float64(7), int64(9), object(7)\n",
      "memory usage: 683.5+ KB\n"
     ]
    }
   ],
   "source": [
    "df = pd.read_csv('gurgaon_properties_fe.csv')\n",
    "df.info()"
   ]
  },
  {
   "cell_type": "code",
   "execution_count": 23,
   "id": "daa9a4c8-81a6-4adf-a65c-87dd762bb4a5",
   "metadata": {},
   "outputs": [
    {
     "data": {
      "text/plain": [
       "126"
      ]
     },
     "execution_count": 23,
     "metadata": {},
     "output_type": "execute_result"
    }
   ],
   "source": [
    "df.duplicated().sum()"
   ]
  },
  {
   "cell_type": "code",
   "execution_count": 24,
   "id": "27c972ec-edb5-4d85-a3b6-65dc6d814ab8",
   "metadata": {},
   "outputs": [
    {
     "data": {
      "text/html": [
       "<div>\n",
       "<style scoped>\n",
       "    .dataframe tbody tr th:only-of-type {\n",
       "        vertical-align: middle;\n",
       "    }\n",
       "\n",
       "    .dataframe tbody tr th {\n",
       "        vertical-align: top;\n",
       "    }\n",
       "\n",
       "    .dataframe thead th {\n",
       "        text-align: right;\n",
       "    }\n",
       "</style>\n",
       "<table border=\"1\" class=\"dataframe\">\n",
       "  <thead>\n",
       "    <tr style=\"text-align: right;\">\n",
       "      <th></th>\n",
       "      <th>property_type</th>\n",
       "      <th>society</th>\n",
       "      <th>sector</th>\n",
       "      <th>price</th>\n",
       "      <th>price_per_sqft</th>\n",
       "      <th>area</th>\n",
       "      <th>areaWithType</th>\n",
       "      <th>bedrooms</th>\n",
       "      <th>bathrooms</th>\n",
       "      <th>balconies</th>\n",
       "      <th>...</th>\n",
       "      <th>super_built_up_area</th>\n",
       "      <th>built_up_area</th>\n",
       "      <th>carpet_area</th>\n",
       "      <th>study room</th>\n",
       "      <th>servant room</th>\n",
       "      <th>store room</th>\n",
       "      <th>pooja room</th>\n",
       "      <th>others</th>\n",
       "      <th>furnishing_type</th>\n",
       "      <th>luxury_score</th>\n",
       "    </tr>\n",
       "  </thead>\n",
       "  <tbody>\n",
       "    <tr>\n",
       "      <th>0</th>\n",
       "      <td>flat</td>\n",
       "      <td>m3m heights</td>\n",
       "      <td>sector 65</td>\n",
       "      <td>2.50</td>\n",
       "      <td>13600.0</td>\n",
       "      <td>1838.0</td>\n",
       "      <td>Super Built up area 1828(169.83 sq.m.)</td>\n",
       "      <td>3</td>\n",
       "      <td>3</td>\n",
       "      <td>3</td>\n",
       "      <td>...</td>\n",
       "      <td>1828.0</td>\n",
       "      <td>NaN</td>\n",
       "      <td>NaN</td>\n",
       "      <td>0</td>\n",
       "      <td>0</td>\n",
       "      <td>0</td>\n",
       "      <td>0</td>\n",
       "      <td>0</td>\n",
       "      <td>0</td>\n",
       "      <td>48</td>\n",
       "    </tr>\n",
       "    <tr>\n",
       "      <th>1</th>\n",
       "      <td>flat</td>\n",
       "      <td>bestech park view city</td>\n",
       "      <td>sector 48</td>\n",
       "      <td>2.65</td>\n",
       "      <td>10323.0</td>\n",
       "      <td>2567.0</td>\n",
       "      <td>Super Built up area 2567(238.48 sq.m.)Carpet a...</td>\n",
       "      <td>4</td>\n",
       "      <td>4</td>\n",
       "      <td>3+</td>\n",
       "      <td>...</td>\n",
       "      <td>2567.0</td>\n",
       "      <td>NaN</td>\n",
       "      <td>1750.0</td>\n",
       "      <td>1</td>\n",
       "      <td>1</td>\n",
       "      <td>0</td>\n",
       "      <td>0</td>\n",
       "      <td>0</td>\n",
       "      <td>1</td>\n",
       "      <td>174</td>\n",
       "    </tr>\n",
       "    <tr>\n",
       "      <th>2</th>\n",
       "      <td>flat</td>\n",
       "      <td>ss the leaf</td>\n",
       "      <td>sector 85</td>\n",
       "      <td>1.20</td>\n",
       "      <td>7317.0</td>\n",
       "      <td>1640.0</td>\n",
       "      <td>Super Built up area 1640(152.36 sq.m.)Built Up...</td>\n",
       "      <td>2</td>\n",
       "      <td>2</td>\n",
       "      <td>3</td>\n",
       "      <td>...</td>\n",
       "      <td>1640.0</td>\n",
       "      <td>1300.0</td>\n",
       "      <td>1000.0</td>\n",
       "      <td>0</td>\n",
       "      <td>0</td>\n",
       "      <td>0</td>\n",
       "      <td>0</td>\n",
       "      <td>0</td>\n",
       "      <td>1</td>\n",
       "      <td>174</td>\n",
       "    </tr>\n",
       "    <tr>\n",
       "      <th>3</th>\n",
       "      <td>flat</td>\n",
       "      <td>signature global solera</td>\n",
       "      <td>sector 107</td>\n",
       "      <td>0.52</td>\n",
       "      <td>8062.0</td>\n",
       "      <td>645.0</td>\n",
       "      <td>Carpet area: 645 (59.92 sq.m.)</td>\n",
       "      <td>3</td>\n",
       "      <td>2</td>\n",
       "      <td>2</td>\n",
       "      <td>...</td>\n",
       "      <td>NaN</td>\n",
       "      <td>NaN</td>\n",
       "      <td>645.0</td>\n",
       "      <td>0</td>\n",
       "      <td>0</td>\n",
       "      <td>0</td>\n",
       "      <td>0</td>\n",
       "      <td>1</td>\n",
       "      <td>0</td>\n",
       "      <td>15</td>\n",
       "    </tr>\n",
       "    <tr>\n",
       "      <th>4</th>\n",
       "      <td>flat</td>\n",
       "      <td>signature global park</td>\n",
       "      <td>sohna road</td>\n",
       "      <td>0.54</td>\n",
       "      <td>7248.0</td>\n",
       "      <td>745.0</td>\n",
       "      <td>Carpet area: 745 (69.21 sq.m.)</td>\n",
       "      <td>2</td>\n",
       "      <td>1</td>\n",
       "      <td>3</td>\n",
       "      <td>...</td>\n",
       "      <td>NaN</td>\n",
       "      <td>NaN</td>\n",
       "      <td>745.0</td>\n",
       "      <td>0</td>\n",
       "      <td>0</td>\n",
       "      <td>0</td>\n",
       "      <td>0</td>\n",
       "      <td>0</td>\n",
       "      <td>0</td>\n",
       "      <td>65</td>\n",
       "    </tr>\n",
       "  </tbody>\n",
       "</table>\n",
       "<p>5 rows × 23 columns</p>\n",
       "</div>"
      ],
      "text/plain": [
       "  property_type                  society      sector  price  price_per_sqft  \\\n",
       "0          flat              m3m heights   sector 65   2.50         13600.0   \n",
       "1          flat   bestech park view city   sector 48   2.65         10323.0   \n",
       "2          flat              ss the leaf   sector 85   1.20          7317.0   \n",
       "3          flat  signature global solera  sector 107   0.52          8062.0   \n",
       "4          flat    signature global park  sohna road   0.54          7248.0   \n",
       "\n",
       "     area                                       areaWithType  bedrooms  \\\n",
       "0  1838.0             Super Built up area 1828(169.83 sq.m.)         3   \n",
       "1  2567.0  Super Built up area 2567(238.48 sq.m.)Carpet a...         4   \n",
       "2  1640.0  Super Built up area 1640(152.36 sq.m.)Built Up...         2   \n",
       "3   645.0                     Carpet area: 645 (59.92 sq.m.)         3   \n",
       "4   745.0                     Carpet area: 745 (69.21 sq.m.)         2   \n",
       "\n",
       "   bathrooms balconies  ...  super_built_up_area built_up_area carpet_area  \\\n",
       "0          3         3  ...               1828.0           NaN         NaN   \n",
       "1          4        3+  ...               2567.0           NaN      1750.0   \n",
       "2          2         3  ...               1640.0        1300.0      1000.0   \n",
       "3          2         2  ...                  NaN           NaN       645.0   \n",
       "4          1         3  ...                  NaN           NaN       745.0   \n",
       "\n",
       "   study room  servant room  store room  pooja room  others  furnishing_type  \\\n",
       "0           0             0           0           0       0                0   \n",
       "1           1             1           0           0       0                1   \n",
       "2           0             0           0           0       0                1   \n",
       "3           0             0           0           0       1                0   \n",
       "4           0             0           0           0       0                0   \n",
       "\n",
       "   luxury_score  \n",
       "0            48  \n",
       "1           174  \n",
       "2           174  \n",
       "3            15  \n",
       "4            65  \n",
       "\n",
       "[5 rows x 23 columns]"
      ]
     },
     "execution_count": 24,
     "metadata": {},
     "output_type": "execute_result"
    }
   ],
   "source": [
    "df.drop_duplicates(inplace=True)\n",
    "df.head()"
   ]
  },
  {
   "cell_type": "code",
   "execution_count": 25,
   "id": "e421d6db-a9b6-4a66-bd8e-7ca46c441418",
   "metadata": {},
   "outputs": [
    {
     "data": {
      "text/plain": [
       "(3677, 23)"
      ]
     },
     "execution_count": 25,
     "metadata": {},
     "output_type": "execute_result"
    }
   ],
   "source": [
    "df.shape"
   ]
  },
  {
   "cell_type": "markdown",
   "id": "fe7f3868-c4c2-48fb-8c0a-4794ce9177d8",
   "metadata": {},
   "source": [
    "### 1. Property type"
   ]
  },
  {
   "cell_type": "code",
   "execution_count": 26,
   "id": "74e3d7cb-b73c-4fae-9c94-6207e06ae25e",
   "metadata": {},
   "outputs": [
    {
     "data": {
      "text/plain": [
       "<AxesSubplot:>"
      ]
     },
     "execution_count": 26,
     "metadata": {},
     "output_type": "execute_result"
    },
    {
     "data": {
      "image/png": "[encoded data removed]",
      "text/plain": [
       "<Figure size 432x288 with 1 Axes>"
      ]
     },
     "metadata": {
      "needs_background": "light"
     },
     "output_type": "display_data"
    }
   ],
   "source": [
    "df['property_type'].value_counts().plot(kind='bar')"
   ]
  },
  {
   "cell_type": "markdown",
   "id": "8e1bfd27-0d9a-436b-a66d-b5a97983e739",
   "metadata": {},
   "source": [
    "- Flats are in majority (~75%)\n",
    "- No missing values"
   ]
  },
  {
   "cell_type": "code",
   "execution_count": 27,
   "id": "76115fbd-862a-4746-98e0-e7b113185d5f",
   "metadata": {},
   "outputs": [
    {
     "data": {
      "text/plain": [
       "(675,)"
      ]
     },
     "execution_count": 27,
     "metadata": {},
     "output_type": "execute_result"
    }
   ],
   "source": [
    "df['society'].value_counts().shape"
   ]
  },
  {
   "cell_type": "code",
   "execution_count": 29,
   "id": "ef5c81aa-78ed-4f36-be60-57236cf0c27e",
   "metadata": {},
   "outputs": [
    {
     "data": {
      "text/plain": [
       "independent                             487\n",
       "tulip violet                             75\n",
       "ss the leaf                              73\n",
       "shapoorji pallonji joyville gurugram     42\n",
       "dlf new town heights                     42\n",
       "signature global park                    35\n",
       "shree vardhman victoria                  34\n",
       "smart world orchard                      32\n",
       "emaar mgf emerald floors premier         32\n",
       "paras dews                               31\n",
       "dlf the ultima                           31\n",
       "m3m woodshire                            30\n",
       "dlf regal gardens                        30\n",
       "shree vardhman flora                     29\n",
       "smart world gems                         28\n",
       "la vida by tata housing                  28\n",
       "godrej nature plus                       27\n",
       "signature global solera                  27\n",
       "bptp terra                               25\n",
       "vatika gurgaon                           24\n",
       "Name: society, dtype: int64"
      ]
     },
     "execution_count": 29,
     "metadata": {},
     "output_type": "execute_result"
    }
   ],
   "source": [
    "df['society'].value_counts()[:20]"
   ]
  },
  {
   "cell_type": "code",
   "execution_count": 38,
   "id": "a61b6aca-6ef5-4e51-9230-9e876ac0ee8c",
   "metadata": {},
   "outputs": [
    {
     "data": {
      "text/plain": [
       "tulip violet                            0.023511\n",
       "ss the leaf                             0.046395\n",
       "shapoorji pallonji joyville gurugram    0.059561\n",
       "dlf new town heights                    0.072727\n",
       "signature global park                   0.083699\n",
       "                                          ...   \n",
       "dlf the primus                          0.486520\n",
       "indiabulls enigma                       0.490596\n",
       "ramsons kshitij                         0.494671\n",
       "the close north                         0.498746\n",
       "ireo the corridors                      0.502508\n",
       "Name: society, Length: 74, dtype: float64"
      ]
     },
     "execution_count": 38,
     "metadata": {},
     "output_type": "execute_result"
    }
   ],
   "source": [
    "df[df['society'] != 'independent']['society'].value_counts(normalize=True).cumsum().head(74)"
   ]
  },
  {
   "cell_type": "code",
   "execution_count": 44,
   "id": "ba957777-6b25-4a31-a95c-477d333a2def",
   "metadata": {},
   "outputs": [
    {
     "data": {
      "text/plain": [
       "{'Very High (>100)': 1,\n",
       " 'High (50-100)': 2,\n",
       " 'Average (10-49)': 92,\n",
       " 'Low (2-9)': 273,\n",
       " 'Very Low (1)': 307}"
      ]
     },
     "execution_count": 44,
     "metadata": {},
     "output_type": "execute_result"
    }
   ],
   "source": [
    "society_counts = df['society'].value_counts()\n",
    "\n",
    "frequency_bins = {\n",
    "    \"Very High (>100)\": (society_counts > 100).sum(),\n",
    "    \"High (50-100)\": ((society_counts >= 50) & (society_counts <= 100)).sum(),\n",
    "    \"Average (10-49)\": ((society_counts >= 10) & (society_counts < 50)).sum(),\n",
    "    \"Low (2-9)\": ((society_counts >= 2) & (society_counts < 10)).sum(),\n",
    "    \"Very Low (1)\": (society_counts == 1).sum()\n",
    "}\n",
    "\n",
    "frequency_bins"
   ]
  },
  {
   "cell_type": "code",
   "execution_count": 36,
   "id": "c3298c74-422f-4d12-9e8e-cdbdf374282a",
   "metadata": {},
   "outputs": [
    {
     "data": {
      "text/plain": [
       "<AxesSubplot:>"
      ]
     },
     "execution_count": 36,
     "metadata": {},
     "output_type": "execute_result"
    },
    {
     "data": {
      "image/png": "[encoded data removed]",
      "text/plain": [
       "<Figure size 432x288 with 1 Axes>"
      ]
     },
     "metadata": {
      "needs_background": "light"
     },
     "output_type": "display_data"
    }
   ],
   "source": [
    "df[df['society'] != 'independent']['society'].value_counts().head(10).plot(kind='bar')"
   ]
  },
  {
   "cell_type": "code",
   "execution_count": 37,
   "id": "4a4b5636-7643-4ab0-9f91-5073125b5b3b",
   "metadata": {},
   "outputs": [
    {
     "data": {
      "text/plain": [
       "0"
      ]
     },
     "execution_count": 37,
     "metadata": {},
     "output_type": "execute_result"
    }
   ],
   "source": [
    "df['society'].isnull().sum()"
   ]
  },
  {
   "cell_type": "markdown",
   "id": "fe997143-9477-4a1e-af14-3a6fbf0d68c0",
   "metadata": {},
   "source": [
    "- Around 13% of the properties are independent\n",
    "- There are a total of 674 societies in the dataset\n",
    "- The top 74 societies have 50% of all properties and the rest 600 have the remaining 50% properties.\n",
    "    - Very High (>100): 1 society has more than 100 properties\n",
    "    - High (50-100): 2 societies have between 50 t0 100 properties\n",
    "    - Average (10-49): 92 societies have between 10 to 49 properties\n",
    "    - Low (2-9): 273 societies have between 2 to 9 properties\n",
    "    - Very Low (1): This is largest group; 307 societies have 1 property each\n"
   ]
  },
  {
   "cell_type": "markdown",
   "id": "b4437c6e-9577-49bc-ac96-c1af79efa649",
   "metadata": {},
   "source": [
    "### 3. Sector"
   ]
  },
  {
   "cell_type": "code",
   "execution_count": 41,
   "id": "e2b54759-ee85-4858-8900-76ab2d70f592",
   "metadata": {},
   "outputs": [
    {
     "data": {
      "text/plain": [
       "sohna road    166\n",
       "sector 85     108\n",
       "sector 102    107\n",
       "sector 92     100\n",
       "sector 69      93\n",
       "             ... \n",
       "sector 73       3\n",
       "sector 17b      3\n",
       "sector 88b      3\n",
       "sector 27       3\n",
       "sector 37       1\n",
       "Name: sector, Length: 112, dtype: int64"
      ]
     },
     "execution_count": 41,
     "metadata": {},
     "output_type": "execute_result"
    }
   ],
   "source": [
    "df['sector'].value_counts()"
   ]
  },
  {
   "cell_type": "code",
   "execution_count": 42,
   "id": "1dd48202-259d-4439-92ff-e5fbb75a5832",
   "metadata": {},
   "outputs": [
    {
     "data": {
      "text/plain": [
       "0"
      ]
     },
     "execution_count": 42,
     "metadata": {},
     "output_type": "execute_result"
    }
   ],
   "source": [
    "df['sector'].isnull().sum()"
   ]
  },
  {
   "cell_type": "code",
   "execution_count": 47,
   "id": "fc7a2fc7-b547-4d2a-83fe-ae200f3a3f03",
   "metadata": {},
   "outputs": [
    {
     "data": {
      "text/plain": [
       "{'Very High (>100)': 3,\n",
       " 'High (50-100)': 25,\n",
       " 'Average (10-49)': 62,\n",
       " 'Low (2-9)': 21,\n",
       " 'Very Low (1)': 1}"
      ]
     },
     "execution_count": 47,
     "metadata": {},
     "output_type": "execute_result"
    }
   ],
   "source": [
    "sector_counts = df['sector'].value_counts()\n",
    "\n",
    "frequency_bins = {\n",
    "    \"Very High (>100)\": (sector_counts > 100).sum(),\n",
    "    \"High (50-100)\": ((sector_counts >= 50) & (sector_counts <= 100)).sum(),\n",
    "    \"Average (10-49)\": ((sector_counts >= 10) & (sector_counts < 50)).sum(),\n",
    "    \"Low (2-9)\": ((sector_counts >= 2) & (sector_counts < 10)).sum(),\n",
    "    \"Very Low (1)\": (sector_counts == 1).sum()\n",
    "}\n",
    "\n",
    "frequency_bins"
   ]
  },
  {
   "cell_type": "code",
   "execution_count": 46,
   "id": "1ede7053-b851-4115-a49f-7339348cc5c1",
   "metadata": {},
   "outputs": [
    {
     "data": {
      "text/plain": [
       "<AxesSubplot:>"
      ]
     },
     "execution_count": 46,
     "metadata": {},
     "output_type": "execute_result"
    },
    {
     "data": {
      "image/png": "[encoded data removed]",
      "text/plain": [
       "<Figure size 432x288 with 1 Axes>"
      ]
     },
     "metadata": {
      "needs_background": "light"
     },
     "output_type": "display_data"
    }
   ],
   "source": [
    "df['sector'].value_counts().head(10).plot(kind='bar')"
   ]
  },
  {
   "cell_type": "markdown",
   "id": "af3a2750-340f-413b-bf90-a0320b82c6ab",
   "metadata": {},
   "source": [
    "- There are a total of 112 sectors in the dataset\n",
    "- Frequency distribution:\n",
    "    - Very High (>100): 3 sectors have more than 100 properties\n",
    "    - High (50-100): 25 sectors have between 50 to 100 properties\n",
    "    - Average (10-49): 62 sectors have between 10 to 49 properties\n",
    "    - Low (2-9): 21 sectors have between 2 to 9 properties\n",
    "    - Very Low (1): 1 sector has 1 property"
   ]
  },
  {
   "cell_type": "code",
   "execution_count": null,
   "id": "2abafd46-ab58-4b78-a7fe-4162b5d319ee",
   "metadata": {},
   "outputs": [],
   "source": []
  }
 ],
 "metadata": {
  "kernelspec": {
   "display_name": "Python 3 (ipykernel)",
   "language": "python",
   "name": "python3"
  },
  "language_info": {
   "codemirror_mode": {
    "name": "ipython",
    "version": 3
   },
   "file_extension": ".py",
   "mimetype": "text/x-python",
   "name": "python",
   "nbconvert_exporter": "python",
   "pygments_lexer": "ipython3",
   "version": "3.10.12"
  }
 },
 "nbformat": 4,
 "nbformat_minor": 5
}
